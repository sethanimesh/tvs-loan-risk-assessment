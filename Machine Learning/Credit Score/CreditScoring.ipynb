{
 "cells": [
  {
   "cell_type": "code",
   "execution_count": 1,
   "id": "5440d5d7",
   "metadata": {},
   "outputs": [],
   "source": [
    "import pandas as pd"
   ]
  },
  {
   "cell_type": "code",
   "execution_count": 65,
   "id": "b66d36a2",
   "metadata": {},
   "outputs": [
    {
     "name": "stderr",
     "output_type": "stream",
     "text": [
      "/var/folders/69/qdzv4_6n7vvcbx7bnb5syht00000gn/T/ipykernel_24348/706587375.py:1: DtypeWarning: Columns (26) have mixed types. Specify dtype option on import or set low_memory=False.\n",
      "  df = pd.read_csv('creditdata/train.csv')\n"
     ]
    }
   ],
   "source": [
    "df = pd.read_csv('creditdata/train.csv')"
   ]
  },
  {
   "cell_type": "code",
   "execution_count": 92,
   "id": "be6552bd",
   "metadata": {},
   "outputs": [
    {
     "name": "stdout",
     "output_type": "stream",
     "text": [
      "<class 'pandas.core.frame.DataFrame'>\n",
      "Int64Index: 71831 entries, 0 to 99998\n",
      "Data columns (total 39 columns):\n",
      " #   Column                                              Non-Null Count  Dtype  \n",
      "---  ------                                              --------------  -----  \n",
      " 0   ID                                                  71831 non-null  object \n",
      " 1   Month                                               71831 non-null  int64  \n",
      " 2   Age                                                 68259 non-null  float64\n",
      " 3   Annual_Income                                       71831 non-null  float64\n",
      " 4   Num_Bank_Accounts                                   71831 non-null  int64  \n",
      " 5   Num_Credit_Card                                     71831 non-null  int64  \n",
      " 6   Interest_Rate                                       71831 non-null  int64  \n",
      " 7   Num_of_Loan                                         71831 non-null  float64\n",
      " 8   Delay_from_due_date                                 71831 non-null  int64  \n",
      " 9   Num_of_Delayed_Payment                              71831 non-null  float64\n",
      " 10  Credit_Mix                                          71831 non-null  float64\n",
      " 11  Outstanding_Debt                                    71831 non-null  float64\n",
      " 12  Credit_Utilization_Ratio                            71831 non-null  float64\n",
      " 13  Payment_of_Min_Amount                               71831 non-null  int64  \n",
      " 14  Total_EMI_per_month                                 71831 non-null  float64\n",
      " 15  Monthly_Balance                                     71831 non-null  float64\n",
      " 16  Credit_Score                                        71831 non-null  object \n",
      " 17  Occupation_Architect                                71831 non-null  uint8  \n",
      " 18  Occupation_Developer                                71831 non-null  uint8  \n",
      " 19  Occupation_Doctor                                   71831 non-null  uint8  \n",
      " 20  Occupation_Engineer                                 71831 non-null  uint8  \n",
      " 21  Occupation_Entrepreneur                             71831 non-null  uint8  \n",
      " 22  Occupation_Journalist                               71831 non-null  uint8  \n",
      " 23  Occupation_Lawyer                                   71831 non-null  uint8  \n",
      " 24  Occupation_Manager                                  71831 non-null  uint8  \n",
      " 25  Occupation_Mechanic                                 71831 non-null  uint8  \n",
      " 26  Occupation_Media_Manager                            71831 non-null  uint8  \n",
      " 27  Occupation_Musician                                 71831 non-null  uint8  \n",
      " 28  Occupation_Scientist                                71831 non-null  uint8  \n",
      " 29  Occupation_Teacher                                  71831 non-null  uint8  \n",
      " 30  Occupation_Writer                                   71831 non-null  uint8  \n",
      " 31  Occupation________                                  71831 non-null  uint8  \n",
      " 32  Payment_Behaviour_High_spent_Large_value_payments   71831 non-null  uint8  \n",
      " 33  Payment_Behaviour_High_spent_Medium_value_payments  71831 non-null  uint8  \n",
      " 34  Payment_Behaviour_High_spent_Small_value_payments   71831 non-null  uint8  \n",
      " 35  Payment_Behaviour_Low_spent_Large_value_payments    71831 non-null  uint8  \n",
      " 36  Payment_Behaviour_Low_spent_Medium_value_payments   71831 non-null  uint8  \n",
      " 37  Payment_Behaviour_Low_spent_Small_value_payments    71831 non-null  uint8  \n",
      " 38  Num_of_Loans                                        71831 non-null  int64  \n",
      "dtypes: float64(9), int64(7), object(2), uint8(21)\n",
      "memory usage: 11.9+ MB\n"
     ]
    }
   ],
   "source": [
    "df.info()"
   ]
  },
  {
   "cell_type": "markdown",
   "id": "0691fdb7",
   "metadata": {},
   "source": [
    "## Droping Irrelevant Columns"
   ]
  },
  {
   "cell_type": "markdown",
   "id": "613d673c",
   "metadata": {},
   "source": [
    "1. SSN: Social Security Numbers may not be relevant in India.\n",
    "2. Customer_ID: Likely not needed as a feature for modeling.\n",
    "3. Name: This does not provide meaningful information for a credit score.\n",
    "4. Monthly_Inhand_Salary: Since this data is missing for ~15% of the dataset, it may not be reliable.\n",
    "5. Changed_Credit_Limit: Credit limit changes might not be as relevant in rural areas, where credit access can be limited.\n",
    "6. Amount_invested_monthly: Many rural customers might not have formal investment portfolios, so this feature may not be reliable.\n",
    "7. Credit_History_Age: Rural customers may have limited or no credit history, making this less predictive.\n",
    "8. Num_Credit_Inquiries: Credit inquiries may be less frequent or tracked in rural settings."
   ]
  },
  {
   "cell_type": "code",
   "execution_count": 67,
   "id": "074062a6",
   "metadata": {},
   "outputs": [],
   "source": [
    "df = df.drop(columns=['SSN', 'Customer_ID', 'Name', 'Monthly_Inhand_Salary', 'Changed_Credit_Limit', 'Amount_invested_monthly', 'Credit_History_Age', 'Num_Credit_Inquiries'])"
   ]
  },
  {
   "cell_type": "markdown",
   "id": "204de9aa",
   "metadata": {},
   "source": [
    "# Cleaning Data"
   ]
  },
  {
   "cell_type": "code",
   "execution_count": 95,
   "id": "33d3fd05",
   "metadata": {},
   "outputs": [
    {
     "name": "stdout",
     "output_type": "stream",
     "text": [
      "ID                                                    0\n",
      "Month                                                 0\n",
      "Age                                                   0\n",
      "Annual_Income                                         0\n",
      "Num_Bank_Accounts                                     0\n",
      "Num_Credit_Card                                       0\n",
      "Interest_Rate                                         0\n",
      "Num_of_Loan                                           0\n",
      "Delay_from_due_date                                   0\n",
      "Num_of_Delayed_Payment                                0\n",
      "Credit_Mix                                            0\n",
      "Outstanding_Debt                                      0\n",
      "Credit_Utilization_Ratio                              0\n",
      "Payment_of_Min_Amount                                 0\n",
      "Total_EMI_per_month                                   0\n",
      "Monthly_Balance                                       0\n",
      "Credit_Score                                          0\n",
      "Occupation_Architect                                  0\n",
      "Occupation_Developer                                  0\n",
      "Occupation_Doctor                                     0\n",
      "Occupation_Engineer                                   0\n",
      "Occupation_Entrepreneur                               0\n",
      "Occupation_Journalist                                 0\n",
      "Occupation_Lawyer                                     0\n",
      "Occupation_Manager                                    0\n",
      "Occupation_Mechanic                                   0\n",
      "Occupation_Media_Manager                              0\n",
      "Occupation_Musician                                   0\n",
      "Occupation_Scientist                                  0\n",
      "Occupation_Teacher                                    0\n",
      "Occupation_Writer                                     0\n",
      "Occupation________                                    0\n",
      "Payment_Behaviour_High_spent_Large_value_payments     0\n",
      "Payment_Behaviour_High_spent_Medium_value_payments    0\n",
      "Payment_Behaviour_High_spent_Small_value_payments     0\n",
      "Payment_Behaviour_Low_spent_Large_value_payments      0\n",
      "Payment_Behaviour_Low_spent_Medium_value_payments     0\n",
      "Payment_Behaviour_Low_spent_Small_value_payments      0\n",
      "Num_of_Loans                                          0\n",
      "dtype: int64\n"
     ]
    }
   ],
   "source": [
    "print(df.isnull().sum())"
   ]
  },
  {
   "cell_type": "code",
   "execution_count": 69,
   "id": "94e31536",
   "metadata": {},
   "outputs": [],
   "source": [
    "# Fill missing values for 'Type_of_Loan' with 'Unknown'\n",
    "df['Type_of_Loan'].fillna('Unknown', inplace=True)"
   ]
  },
  {
   "cell_type": "code",
   "execution_count": 70,
   "id": "564db7dc",
   "metadata": {},
   "outputs": [],
   "source": [
    "# Convert 'Num_of_Delayed_Payment' to numeric, forcing errors to NaN\n",
    "df['Num_of_Delayed_Payment'] = pd.to_numeric(df['Num_of_Delayed_Payment'], errors='coerce')\n",
    "\n",
    "# Now fill the missing values with the median\n",
    "df['Num_of_Delayed_Payment'].fillna(df['Num_of_Delayed_Payment'].median(), inplace=True)"
   ]
  },
  {
   "cell_type": "code",
   "execution_count": 71,
   "id": "6c26056c",
   "metadata": {},
   "outputs": [],
   "source": [
    "# Convert 'Monthly_Balance' to numeric, forcing errors to NaN (if necessary)\n",
    "df['Monthly_Balance'] = pd.to_numeric(df['Monthly_Balance'], errors='coerce')\n",
    "\n",
    "# Fill missing values with the median\n",
    "df['Monthly_Balance'].fillna(df['Monthly_Balance'].median(), inplace=True)"
   ]
  },
  {
   "cell_type": "code",
   "execution_count": 72,
   "id": "c3428156",
   "metadata": {
    "scrolled": true
   },
   "outputs": [
    {
     "name": "stdout",
     "output_type": "stream",
     "text": [
      "ID                           object\n",
      "Month                        object\n",
      "Age                          object\n",
      "Occupation                   object\n",
      "Annual_Income                object\n",
      "Num_Bank_Accounts             int64\n",
      "Num_Credit_Card               int64\n",
      "Interest_Rate                 int64\n",
      "Num_of_Loan                  object\n",
      "Type_of_Loan                 object\n",
      "Delay_from_due_date           int64\n",
      "Num_of_Delayed_Payment      float64\n",
      "Credit_Mix                   object\n",
      "Outstanding_Debt             object\n",
      "Credit_Utilization_Ratio    float64\n",
      "Payment_of_Min_Amount        object\n",
      "Total_EMI_per_month         float64\n",
      "Payment_Behaviour            object\n",
      "Monthly_Balance             float64\n",
      "Credit_Score                 object\n",
      "dtype: object\n"
     ]
    }
   ],
   "source": [
    "# Check data types of all columns\n",
    "print(df.dtypes)"
   ]
  },
  {
   "cell_type": "code",
   "execution_count": 73,
   "id": "3e9b6b1e",
   "metadata": {},
   "outputs": [],
   "source": [
    "df['Age'] = pd.to_numeric(df['Age'], errors='coerce')\n",
    "df['Num_of_Loan'] = pd.to_numeric(df['Num_of_Loan'], errors='coerce')\n",
    "df['Annual_Income'] = pd.to_numeric(df['Annual_Income'], errors='coerce')\n",
    "df['Outstanding_Debt'] = pd.to_numeric(df['Outstanding_Debt'], errors='coerce')"
   ]
  },
  {
   "cell_type": "code",
   "execution_count": 94,
   "id": "e467e561",
   "metadata": {},
   "outputs": [],
   "source": [
    "df['Age'].fillna(df['Age'].median(), inplace=True)"
   ]
  },
  {
   "cell_type": "code",
   "execution_count": 74,
   "id": "1e846dee",
   "metadata": {
    "scrolled": true
   },
   "outputs": [
    {
     "name": "stdout",
     "output_type": "stream",
     "text": [
      "0     January\n",
      "1    February\n",
      "2       March\n",
      "3       April\n",
      "4         May\n",
      "Name: Month, dtype: object\n"
     ]
    }
   ],
   "source": [
    "# Check if conversion worked\n",
    "print(df['Month'].head())"
   ]
  },
  {
   "cell_type": "code",
   "execution_count": 75,
   "id": "5675ed98",
   "metadata": {
    "scrolled": true
   },
   "outputs": [
    {
     "name": "stdout",
     "output_type": "stream",
     "text": [
      "0    1\n",
      "1    2\n",
      "2    3\n",
      "3    4\n",
      "4    5\n",
      "Name: Month, dtype: int64\n"
     ]
    }
   ],
   "source": [
    "# Mapping month names to numerical values\n",
    "month_mapping = {\n",
    "    'January': 1,\n",
    "    'February': 2,\n",
    "    'March': 3,\n",
    "    'April': 4,\n",
    "    'May': 5,\n",
    "    'June': 6,\n",
    "    'July': 7,\n",
    "    'August': 8,\n",
    "    'September': 9,\n",
    "    'October': 10,\n",
    "    'November': 11,\n",
    "    'December': 12\n",
    "}\n",
    "\n",
    "# Apply the mapping to the 'Month' column\n",
    "df['Month'] = df['Month'].map(month_mapping)\n",
    "\n",
    "# Check the result\n",
    "print(df['Month'].head())"
   ]
  },
  {
   "cell_type": "markdown",
   "id": "0adcbce9",
   "metadata": {},
   "source": [
    "## Handling Outliers"
   ]
  },
  {
   "cell_type": "code",
   "execution_count": 76,
   "id": "83472e15",
   "metadata": {},
   "outputs": [
    {
     "name": "stdout",
     "output_type": "stream",
     "text": [
      "count     90458.000000\n",
      "mean      48370.116233\n",
      "std       35191.331168\n",
      "min        7005.930000\n",
      "25%       19197.300000\n",
      "50%       36379.240000\n",
      "75%       69857.985000\n",
      "max      152947.120000\n",
      "Name: Annual_Income, dtype: float64\n"
     ]
    }
   ],
   "source": [
    "# Calculate IQR for 'Annual_Income'\n",
    "Q1 = df['Annual_Income'].quantile(0.25)\n",
    "Q3 = df['Annual_Income'].quantile(0.75)\n",
    "IQR = Q3 - Q1\n",
    "\n",
    "# Define bounds for outliers\n",
    "lower_bound = Q1 - 1.5 * IQR\n",
    "upper_bound = Q3 + 1.5 * IQR\n",
    "\n",
    "# Filter out rows with outliers\n",
    "df = df[(df['Annual_Income'] >= lower_bound) & (df['Annual_Income'] <= upper_bound)]\n",
    "\n",
    "# Check the result\n",
    "print(df['Annual_Income'].describe())"
   ]
  },
  {
   "cell_type": "code",
   "execution_count": 77,
   "id": "39017260",
   "metadata": {
    "scrolled": true
   },
   "outputs": [
    {
     "name": "stdout",
     "output_type": "stream",
     "text": [
      "              Month           Age  Annual_Income  Num_Bank_Accounts  \\\n",
      "count  71831.000000  68259.000000   71831.000000       71831.000000   \n",
      "mean       4.479514    112.616607   47564.686601          17.084796   \n",
      "std        2.290930    695.045554   34736.213504         117.724122   \n",
      "min        1.000000   -500.000000    7005.930000          -1.000000   \n",
      "25%        2.000000     25.000000   19204.590000           3.000000   \n",
      "50%        4.000000     33.000000   35618.390000           5.000000   \n",
      "75%        6.000000     42.000000   68289.320000           7.000000   \n",
      "max        8.000000   8698.000000  152947.120000        1798.000000   \n",
      "\n",
      "       Num_Credit_Card  Interest_Rate   Num_of_Loan  Delay_from_due_date  \\\n",
      "count     71831.000000   71831.000000  71831.000000         71831.000000   \n",
      "mean         22.799126      73.663363      3.307165            20.283708   \n",
      "std         130.371672     476.283251      2.310514            14.288484   \n",
      "min           0.000000       1.000000      0.000000            -5.000000   \n",
      "25%           4.000000       7.000000      2.000000            10.000000   \n",
      "50%           5.000000      13.000000      3.000000            17.000000   \n",
      "75%           7.000000      20.000000      5.000000            27.000000   \n",
      "max        1499.000000    5797.000000      9.000000            67.000000   \n",
      "\n",
      "       Num_of_Delayed_Payment  Outstanding_Debt  Credit_Utilization_Ratio  \\\n",
      "count            71831.000000      71831.000000              71831.000000   \n",
      "mean                28.798903       1265.476805                 32.246789   \n",
      "std                212.396084        924.536655                  5.078791   \n",
      "min                 -3.000000          0.230000                 20.000000   \n",
      "25%                  9.000000        545.480000                 28.046300   \n",
      "50%                 14.000000       1113.980000                 32.255443   \n",
      "75%                 17.000000       1713.360000                 36.453724   \n",
      "max               4397.000000       4071.680000                 48.337291   \n",
      "\n",
      "       Total_EMI_per_month  Monthly_Balance  \n",
      "count         71831.000000     71831.000000  \n",
      "mean             85.342686       398.552916  \n",
      "std              78.821818       198.434880  \n",
      "min               0.000000         0.088628  \n",
      "25%              26.492123       273.920297  \n",
      "50%              60.235015       337.503234  \n",
      "75%             126.478662       465.086898  \n",
      "max             339.312554      1415.564984  \n"
     ]
    }
   ],
   "source": [
    "# List of numeric columns to check for outliers\n",
    "numeric_columns = ['Outstanding_Debt', 'Total_EMI_per_month', 'Num_of_Loan']\n",
    "\n",
    "for col in numeric_columns:\n",
    "    Q1 = df[col].quantile(0.25)\n",
    "    Q3 = df[col].quantile(0.75)\n",
    "    IQR = Q3 - Q1\n",
    "    \n",
    "    # Define bounds for outliers\n",
    "    lower_bound = Q1 - 1.5 * IQR\n",
    "    upper_bound = Q3 + 1.5 * IQR\n",
    "    \n",
    "    # Filter out rows with outliers\n",
    "    df = df[(df[col] >= lower_bound) & (df[col] <= upper_bound)]\n",
    "\n",
    "# Check the updated dataframe\n",
    "print(df.describe())"
   ]
  },
  {
   "cell_type": "code",
   "execution_count": 78,
   "id": "5d7e23cb",
   "metadata": {},
   "outputs": [
    {
     "data": {
      "text/html": [
       "<div>\n",
       "<style scoped>\n",
       "    .dataframe tbody tr th:only-of-type {\n",
       "        vertical-align: middle;\n",
       "    }\n",
       "\n",
       "    .dataframe tbody tr th {\n",
       "        vertical-align: top;\n",
       "    }\n",
       "\n",
       "    .dataframe thead th {\n",
       "        text-align: right;\n",
       "    }\n",
       "</style>\n",
       "<table border=\"1\" class=\"dataframe\">\n",
       "  <thead>\n",
       "    <tr style=\"text-align: right;\">\n",
       "      <th></th>\n",
       "      <th>ID</th>\n",
       "      <th>Month</th>\n",
       "      <th>Age</th>\n",
       "      <th>Occupation</th>\n",
       "      <th>Annual_Income</th>\n",
       "      <th>Num_Bank_Accounts</th>\n",
       "      <th>Num_Credit_Card</th>\n",
       "      <th>Interest_Rate</th>\n",
       "      <th>Num_of_Loan</th>\n",
       "      <th>Type_of_Loan</th>\n",
       "      <th>Delay_from_due_date</th>\n",
       "      <th>Num_of_Delayed_Payment</th>\n",
       "      <th>Credit_Mix</th>\n",
       "      <th>Outstanding_Debt</th>\n",
       "      <th>Credit_Utilization_Ratio</th>\n",
       "      <th>Payment_of_Min_Amount</th>\n",
       "      <th>Total_EMI_per_month</th>\n",
       "      <th>Payment_Behaviour</th>\n",
       "      <th>Monthly_Balance</th>\n",
       "      <th>Credit_Score</th>\n",
       "    </tr>\n",
       "  </thead>\n",
       "  <tbody>\n",
       "    <tr>\n",
       "      <th>0</th>\n",
       "      <td>0x1602</td>\n",
       "      <td>1</td>\n",
       "      <td>23.0</td>\n",
       "      <td>Scientist</td>\n",
       "      <td>19114.12</td>\n",
       "      <td>3</td>\n",
       "      <td>4</td>\n",
       "      <td>3</td>\n",
       "      <td>4.0</td>\n",
       "      <td>Auto Loan, Credit-Builder Loan, Personal Loan,...</td>\n",
       "      <td>3</td>\n",
       "      <td>7.0</td>\n",
       "      <td>_</td>\n",
       "      <td>809.98</td>\n",
       "      <td>26.822620</td>\n",
       "      <td>No</td>\n",
       "      <td>49.574949</td>\n",
       "      <td>High_spent_Small_value_payments</td>\n",
       "      <td>312.494089</td>\n",
       "      <td>Good</td>\n",
       "    </tr>\n",
       "    <tr>\n",
       "      <th>1</th>\n",
       "      <td>0x1603</td>\n",
       "      <td>2</td>\n",
       "      <td>23.0</td>\n",
       "      <td>Scientist</td>\n",
       "      <td>19114.12</td>\n",
       "      <td>3</td>\n",
       "      <td>4</td>\n",
       "      <td>3</td>\n",
       "      <td>4.0</td>\n",
       "      <td>Auto Loan, Credit-Builder Loan, Personal Loan,...</td>\n",
       "      <td>-1</td>\n",
       "      <td>14.0</td>\n",
       "      <td>Good</td>\n",
       "      <td>809.98</td>\n",
       "      <td>31.944960</td>\n",
       "      <td>No</td>\n",
       "      <td>49.574949</td>\n",
       "      <td>Low_spent_Large_value_payments</td>\n",
       "      <td>284.629162</td>\n",
       "      <td>Good</td>\n",
       "    </tr>\n",
       "    <tr>\n",
       "      <th>2</th>\n",
       "      <td>0x1604</td>\n",
       "      <td>3</td>\n",
       "      <td>-500.0</td>\n",
       "      <td>Scientist</td>\n",
       "      <td>19114.12</td>\n",
       "      <td>3</td>\n",
       "      <td>4</td>\n",
       "      <td>3</td>\n",
       "      <td>4.0</td>\n",
       "      <td>Auto Loan, Credit-Builder Loan, Personal Loan,...</td>\n",
       "      <td>3</td>\n",
       "      <td>7.0</td>\n",
       "      <td>Good</td>\n",
       "      <td>809.98</td>\n",
       "      <td>28.609352</td>\n",
       "      <td>No</td>\n",
       "      <td>49.574949</td>\n",
       "      <td>Low_spent_Medium_value_payments</td>\n",
       "      <td>331.209863</td>\n",
       "      <td>Good</td>\n",
       "    </tr>\n",
       "    <tr>\n",
       "      <th>3</th>\n",
       "      <td>0x1605</td>\n",
       "      <td>4</td>\n",
       "      <td>23.0</td>\n",
       "      <td>Scientist</td>\n",
       "      <td>19114.12</td>\n",
       "      <td>3</td>\n",
       "      <td>4</td>\n",
       "      <td>3</td>\n",
       "      <td>4.0</td>\n",
       "      <td>Auto Loan, Credit-Builder Loan, Personal Loan,...</td>\n",
       "      <td>5</td>\n",
       "      <td>4.0</td>\n",
       "      <td>Good</td>\n",
       "      <td>809.98</td>\n",
       "      <td>31.377862</td>\n",
       "      <td>No</td>\n",
       "      <td>49.574949</td>\n",
       "      <td>Low_spent_Small_value_payments</td>\n",
       "      <td>223.451310</td>\n",
       "      <td>Good</td>\n",
       "    </tr>\n",
       "    <tr>\n",
       "      <th>4</th>\n",
       "      <td>0x1606</td>\n",
       "      <td>5</td>\n",
       "      <td>23.0</td>\n",
       "      <td>Scientist</td>\n",
       "      <td>19114.12</td>\n",
       "      <td>3</td>\n",
       "      <td>4</td>\n",
       "      <td>3</td>\n",
       "      <td>4.0</td>\n",
       "      <td>Auto Loan, Credit-Builder Loan, Personal Loan,...</td>\n",
       "      <td>6</td>\n",
       "      <td>14.0</td>\n",
       "      <td>Good</td>\n",
       "      <td>809.98</td>\n",
       "      <td>24.797347</td>\n",
       "      <td>No</td>\n",
       "      <td>49.574949</td>\n",
       "      <td>High_spent_Medium_value_payments</td>\n",
       "      <td>341.489231</td>\n",
       "      <td>Good</td>\n",
       "    </tr>\n",
       "  </tbody>\n",
       "</table>\n",
       "</div>"
      ],
      "text/plain": [
       "       ID  Month    Age Occupation  Annual_Income  Num_Bank_Accounts  \\\n",
       "0  0x1602      1   23.0  Scientist       19114.12                  3   \n",
       "1  0x1603      2   23.0  Scientist       19114.12                  3   \n",
       "2  0x1604      3 -500.0  Scientist       19114.12                  3   \n",
       "3  0x1605      4   23.0  Scientist       19114.12                  3   \n",
       "4  0x1606      5   23.0  Scientist       19114.12                  3   \n",
       "\n",
       "   Num_Credit_Card  Interest_Rate  Num_of_Loan  \\\n",
       "0                4              3          4.0   \n",
       "1                4              3          4.0   \n",
       "2                4              3          4.0   \n",
       "3                4              3          4.0   \n",
       "4                4              3          4.0   \n",
       "\n",
       "                                        Type_of_Loan  Delay_from_due_date  \\\n",
       "0  Auto Loan, Credit-Builder Loan, Personal Loan,...                    3   \n",
       "1  Auto Loan, Credit-Builder Loan, Personal Loan,...                   -1   \n",
       "2  Auto Loan, Credit-Builder Loan, Personal Loan,...                    3   \n",
       "3  Auto Loan, Credit-Builder Loan, Personal Loan,...                    5   \n",
       "4  Auto Loan, Credit-Builder Loan, Personal Loan,...                    6   \n",
       "\n",
       "   Num_of_Delayed_Payment Credit_Mix  Outstanding_Debt  \\\n",
       "0                     7.0          _            809.98   \n",
       "1                    14.0       Good            809.98   \n",
       "2                     7.0       Good            809.98   \n",
       "3                     4.0       Good            809.98   \n",
       "4                    14.0       Good            809.98   \n",
       "\n",
       "   Credit_Utilization_Ratio Payment_of_Min_Amount  Total_EMI_per_month  \\\n",
       "0                 26.822620                    No            49.574949   \n",
       "1                 31.944960                    No            49.574949   \n",
       "2                 28.609352                    No            49.574949   \n",
       "3                 31.377862                    No            49.574949   \n",
       "4                 24.797347                    No            49.574949   \n",
       "\n",
       "                  Payment_Behaviour  Monthly_Balance Credit_Score  \n",
       "0   High_spent_Small_value_payments       312.494089         Good  \n",
       "1    Low_spent_Large_value_payments       284.629162         Good  \n",
       "2   Low_spent_Medium_value_payments       331.209863         Good  \n",
       "3    Low_spent_Small_value_payments       223.451310         Good  \n",
       "4  High_spent_Medium_value_payments       341.489231         Good  "
      ]
     },
     "execution_count": 78,
     "metadata": {},
     "output_type": "execute_result"
    }
   ],
   "source": [
    "df.head()"
   ]
  },
  {
   "cell_type": "markdown",
   "id": "43a4a80d",
   "metadata": {},
   "source": [
    "## Encoding Categorical Variables"
   ]
  },
  {
   "cell_type": "code",
   "execution_count": 79,
   "id": "f67c1d36",
   "metadata": {},
   "outputs": [
    {
     "name": "stdout",
     "output_type": "stream",
     "text": [
      "       ID  Month    Age  Annual_Income  Num_Bank_Accounts  Num_Credit_Card  \\\n",
      "0  0x1602      1   23.0       19114.12                  3                4   \n",
      "1  0x1603      2   23.0       19114.12                  3                4   \n",
      "2  0x1604      3 -500.0       19114.12                  3                4   \n",
      "3  0x1605      4   23.0       19114.12                  3                4   \n",
      "4  0x1606      5   23.0       19114.12                  3                4   \n",
      "\n",
      "   Interest_Rate  Num_of_Loan  \\\n",
      "0              3          4.0   \n",
      "1              3          4.0   \n",
      "2              3          4.0   \n",
      "3              3          4.0   \n",
      "4              3          4.0   \n",
      "\n",
      "                                        Type_of_Loan  Delay_from_due_date  \\\n",
      "0  Auto Loan, Credit-Builder Loan, Personal Loan,...                    3   \n",
      "1  Auto Loan, Credit-Builder Loan, Personal Loan,...                   -1   \n",
      "2  Auto Loan, Credit-Builder Loan, Personal Loan,...                    3   \n",
      "3  Auto Loan, Credit-Builder Loan, Personal Loan,...                    5   \n",
      "4  Auto Loan, Credit-Builder Loan, Personal Loan,...                    6   \n",
      "\n",
      "   ...  Occupation_Scientist Occupation_Teacher  Occupation_Writer  \\\n",
      "0  ...                     1                  0                  0   \n",
      "1  ...                     1                  0                  0   \n",
      "2  ...                     1                  0                  0   \n",
      "3  ...                     1                  0                  0   \n",
      "4  ...                     1                  0                  0   \n",
      "\n",
      "   Occupation________ Payment_Behaviour_High_spent_Large_value_payments  \\\n",
      "0                   0                                                 0   \n",
      "1                   0                                                 0   \n",
      "2                   0                                                 0   \n",
      "3                   0                                                 0   \n",
      "4                   0                                                 0   \n",
      "\n",
      "   Payment_Behaviour_High_spent_Medium_value_payments  \\\n",
      "0                                                  0    \n",
      "1                                                  0    \n",
      "2                                                  0    \n",
      "3                                                  0    \n",
      "4                                                  1    \n",
      "\n",
      "   Payment_Behaviour_High_spent_Small_value_payments  \\\n",
      "0                                                  1   \n",
      "1                                                  0   \n",
      "2                                                  0   \n",
      "3                                                  0   \n",
      "4                                                  0   \n",
      "\n",
      "  Payment_Behaviour_Low_spent_Large_value_payments  \\\n",
      "0                                                0   \n",
      "1                                                1   \n",
      "2                                                0   \n",
      "3                                                0   \n",
      "4                                                0   \n",
      "\n",
      "   Payment_Behaviour_Low_spent_Medium_value_payments  \\\n",
      "0                                                  0   \n",
      "1                                                  0   \n",
      "2                                                  1   \n",
      "3                                                  0   \n",
      "4                                                  0   \n",
      "\n",
      "   Payment_Behaviour_Low_spent_Small_value_payments  \n",
      "0                                                 0  \n",
      "1                                                 0  \n",
      "2                                                 0  \n",
      "3                                                 1  \n",
      "4                                                 0  \n",
      "\n",
      "[5 rows x 39 columns]\n"
     ]
    }
   ],
   "source": [
    "# Apply One-Hot Encoding for 'Occupation' and 'Payment_Behaviour'\n",
    "df = pd.get_dummies(df, columns=['Occupation', 'Payment_Behaviour'], drop_first=True)\n",
    "\n",
    "# Check the updated dataframe\n",
    "print(df.head())"
   ]
  },
  {
   "cell_type": "code",
   "execution_count": 80,
   "id": "bb74c998",
   "metadata": {},
   "outputs": [
    {
     "name": "stdout",
     "output_type": "stream",
     "text": [
      "0    NaN\n",
      "1    3.0\n",
      "2    3.0\n",
      "3    3.0\n",
      "4    3.0\n",
      "Name: Credit_Mix, dtype: float64\n"
     ]
    }
   ],
   "source": [
    "# Map 'Credit_Mix' to numerical values\n",
    "credit_mix_mapping = {\n",
    "    'Bad': 1,\n",
    "    'Standard': 2,\n",
    "    'Good': 3\n",
    "}\n",
    "\n",
    "df['Credit_Mix'] = df['Credit_Mix'].map(credit_mix_mapping)\n",
    "\n",
    "# Check the updated dataframe\n",
    "print(df['Credit_Mix'].head())"
   ]
  },
  {
   "cell_type": "code",
   "execution_count": 81,
   "id": "d4bba7fe",
   "metadata": {
    "scrolled": true
   },
   "outputs": [
    {
     "name": "stdout",
     "output_type": "stream",
     "text": [
      "0    2.0\n",
      "1    3.0\n",
      "2    3.0\n",
      "3    3.0\n",
      "4    3.0\n",
      "Name: Credit_Mix, dtype: float64\n"
     ]
    }
   ],
   "source": [
    "# Fill NaN values in 'Credit_Mix' with the most frequent value (mode)\n",
    "df['Credit_Mix'].fillna(df['Credit_Mix'].mode()[0], inplace=True)\n",
    "\n",
    "# Check the updated column\n",
    "print(df['Credit_Mix'].head())"
   ]
  },
  {
   "cell_type": "markdown",
   "id": "54332752",
   "metadata": {},
   "source": [
    "## Fixing Loan Column"
   ]
  },
  {
   "cell_type": "code",
   "execution_count": 82,
   "id": "832ac265",
   "metadata": {
    "scrolled": false
   },
   "outputs": [
    {
     "data": {
      "text/plain": [
       "0    4\n",
       "1    4\n",
       "2    4\n",
       "3    4\n",
       "4    4\n",
       "Name: Num_of_Loans, dtype: int64"
      ]
     },
     "execution_count": 82,
     "metadata": {},
     "output_type": "execute_result"
    }
   ],
   "source": [
    "# Count the number of loans in the 'Type_of_Loan' column\n",
    "df['Num_of_Loans'] = df['Type_of_Loan'].apply(lambda x: len(str(x).split(',')))\n",
    "\n",
    "# Drop the original 'Type_of_Loan' column\n",
    "df = df.drop(columns=['Type_of_Loan'])\n",
    "\n",
    "# Check the updated dataframe\n",
    "df[\"Num_of_Loans\"].head()"
   ]
  },
  {
   "cell_type": "markdown",
   "id": "9310823e",
   "metadata": {},
   "source": [
    "## Fixing Payment of Min Amount Column"
   ]
  },
  {
   "cell_type": "code",
   "execution_count": 87,
   "id": "4a6d672a",
   "metadata": {
    "scrolled": true
   },
   "outputs": [
    {
     "data": {
      "text/plain": [
       "array(['No', 'NM', 'Yes'], dtype=object)"
      ]
     },
     "execution_count": 87,
     "metadata": {},
     "output_type": "execute_result"
    }
   ],
   "source": [
    "df['Payment_of_Min_Amount'].unique()"
   ]
  },
  {
   "cell_type": "code",
   "execution_count": 88,
   "id": "a6d9eeed",
   "metadata": {},
   "outputs": [
    {
     "name": "stdout",
     "output_type": "stream",
     "text": [
      "[0 2 1]\n"
     ]
    }
   ],
   "source": [
    "# Encode 'Yes', 'No', and 'NM' as numerical values\n",
    "df['Payment_of_Min_Amount'] = df['Payment_of_Min_Amount'].replace({'Yes': 1, 'No': 0, 'NM': 2})\n",
    "\n",
    "# Check the unique values after encoding\n",
    "print(df['Payment_of_Min_Amount'].unique())"
   ]
  },
  {
   "cell_type": "markdown",
   "id": "e693b59d",
   "metadata": {},
   "source": [
    "## Feature Scaling"
   ]
  },
  {
   "cell_type": "code",
   "execution_count": 83,
   "id": "b2c349b1",
   "metadata": {},
   "outputs": [
    {
     "name": "stdout",
     "output_type": "stream",
     "text": [
      "       Age  Annual_Income  Outstanding_Debt  Total_EMI_per_month  \\\n",
      "0  0.05686       0.082966          0.198885             0.146104   \n",
      "1  0.05686       0.082966          0.198885             0.146104   \n",
      "2  0.00000       0.082966          0.198885             0.146104   \n",
      "3  0.05686       0.082966          0.198885             0.146104   \n",
      "4  0.05686       0.082966          0.198885             0.146104   \n",
      "\n",
      "   Credit_Utilization_Ratio  \n",
      "0                  0.240765  \n",
      "1                  0.421528  \n",
      "2                  0.303817  \n",
      "3                  0.401516  \n",
      "4                  0.169294  \n"
     ]
    }
   ],
   "source": [
    "from sklearn.preprocessing import MinMaxScaler\n",
    "\n",
    "# List of numeric columns to scale\n",
    "numeric_columns_to_scale = ['Age', 'Annual_Income', 'Outstanding_Debt', 'Total_EMI_per_month', 'Credit_Utilization_Ratio']\n",
    "\n",
    "# Initialize the scaler\n",
    "scaler = MinMaxScaler()\n",
    "\n",
    "# Apply the scaler to the numeric columns\n",
    "df[numeric_columns_to_scale] = scaler.fit_transform(df[numeric_columns_to_scale])\n",
    "\n",
    "# Check the scaled data\n",
    "print(df[numeric_columns_to_scale].head())"
   ]
  },
  {
   "cell_type": "code",
   "execution_count": 96,
   "id": "436b3080",
   "metadata": {},
   "outputs": [
    {
     "name": "stdout",
     "output_type": "stream",
     "text": [
      "Training data shape: (57464, 37), Testing data shape: (14367, 37)\n"
     ]
    }
   ],
   "source": [
    "from sklearn.model_selection import train_test_split\n",
    "\n",
    "# Define features (X) and target (y)\n",
    "X = df.drop(columns=['Credit_Score', 'ID'])  # Drop the target and any irrelevant columns\n",
    "y = df['Credit_Score']  # Target variable\n",
    "\n",
    "# Split the dataset into training and testing sets (80% train, 20% test)\n",
    "X_train, X_test, y_train, y_test = train_test_split(X, y, test_size=0.2, random_state=42)\n",
    "\n",
    "# Check the shapes of the resulting datasets\n",
    "print(f\"Training data shape: {X_train.shape}, Testing data shape: {X_test.shape}\")"
   ]
  },
  {
   "cell_type": "code",
   "execution_count": 97,
   "id": "4c7c1c42",
   "metadata": {},
   "outputs": [
    {
     "name": "stdout",
     "output_type": "stream",
     "text": [
      "Accuracy: 0.7845757639033897\n",
      "Classification Report:\n",
      "               precision    recall  f1-score   support\n",
      "\n",
      "        Good       0.70      0.69      0.69      2569\n",
      "        Poor       0.79      0.79      0.79      4116\n",
      "    Standard       0.81      0.82      0.81      7682\n",
      "\n",
      "    accuracy                           0.78     14367\n",
      "   macro avg       0.77      0.76      0.77     14367\n",
      "weighted avg       0.78      0.78      0.78     14367\n",
      "\n"
     ]
    }
   ],
   "source": [
    "from sklearn.ensemble import RandomForestClassifier\n",
    "from sklearn.metrics import classification_report, accuracy_score\n",
    "\n",
    "# Initialize the model\n",
    "model = RandomForestClassifier(random_state=42)\n",
    "\n",
    "# Train the model\n",
    "model.fit(X_train, y_train)\n",
    "\n",
    "# Make predictions on the test set\n",
    "y_pred = model.predict(X_test)\n",
    "\n",
    "# Evaluate the model\n",
    "print(f\"Accuracy: {accuracy_score(y_test, y_pred)}\")\n",
    "print(\"Classification Report:\\n\", classification_report(y_test, y_pred))"
   ]
  },
  {
   "cell_type": "code",
   "execution_count": 98,
   "id": "e23525ef",
   "metadata": {},
   "outputs": [
    {
     "data": {
      "text/plain": [
       "['credit_score_model.pkl']"
      ]
     },
     "execution_count": 98,
     "metadata": {},
     "output_type": "execute_result"
    }
   ],
   "source": [
    "import joblib\n",
    "\n",
    "# Save the model to a file\n",
    "joblib.dump(model, 'credit_score_model.pkl')"
   ]
  },
  {
   "cell_type": "code",
   "execution_count": 99,
   "id": "070f747a",
   "metadata": {},
   "outputs": [
    {
     "name": "stdout",
     "output_type": "stream",
     "text": [
      "Index(['Month', 'Age', 'Annual_Income', 'Num_Bank_Accounts', 'Num_Credit_Card',\n",
      "       'Interest_Rate', 'Num_of_Loan', 'Delay_from_due_date',\n",
      "       'Num_of_Delayed_Payment', 'Credit_Mix', 'Outstanding_Debt',\n",
      "       'Credit_Utilization_Ratio', 'Payment_of_Min_Amount',\n",
      "       'Total_EMI_per_month', 'Monthly_Balance', 'Occupation_Architect',\n",
      "       'Occupation_Developer', 'Occupation_Doctor', 'Occupation_Engineer',\n",
      "       'Occupation_Entrepreneur', 'Occupation_Journalist', 'Occupation_Lawyer',\n",
      "       'Occupation_Manager', 'Occupation_Mechanic', 'Occupation_Media_Manager',\n",
      "       'Occupation_Musician', 'Occupation_Scientist', 'Occupation_Teacher',\n",
      "       'Occupation_Writer', 'Occupation________',\n",
      "       'Payment_Behaviour_High_spent_Large_value_payments',\n",
      "       'Payment_Behaviour_High_spent_Medium_value_payments',\n",
      "       'Payment_Behaviour_High_spent_Small_value_payments',\n",
      "       'Payment_Behaviour_Low_spent_Large_value_payments',\n",
      "       'Payment_Behaviour_Low_spent_Medium_value_payments',\n",
      "       'Payment_Behaviour_Low_spent_Small_value_payments', 'Num_of_Loans'],\n",
      "      dtype='object')\n"
     ]
    }
   ],
   "source": [
    "# List the columns used for training\n",
    "required_columns = X_train.columns\n",
    "print(required_columns)"
   ]
  },
  {
   "cell_type": "code",
   "execution_count": null,
   "id": "2e9dc5eb",
   "metadata": {},
   "outputs": [],
   "source": []
  }
 ],
 "metadata": {
  "kernelspec": {
   "display_name": "Python 3 (ipykernel)",
   "language": "python",
   "name": "python3"
  },
  "language_info": {
   "codemirror_mode": {
    "name": "ipython",
    "version": 3
   },
   "file_extension": ".py",
   "mimetype": "text/x-python",
   "name": "python",
   "nbconvert_exporter": "python",
   "pygments_lexer": "ipython3",
   "version": "3.11.4"
  }
 },
 "nbformat": 4,
 "nbformat_minor": 5
}
