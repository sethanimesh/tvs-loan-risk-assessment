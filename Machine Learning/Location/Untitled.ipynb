{
 "cells": [
  {
   "cell_type": "code",
   "execution_count": 2,
   "id": "68689055",
   "metadata": {},
   "outputs": [],
   "source": [
    "import pandas as pd"
   ]
  },
  {
   "cell_type": "code",
   "execution_count": 2,
   "id": "be76c32c",
   "metadata": {},
   "outputs": [
    {
     "name": "stdout",
     "output_type": "stream",
     "text": [
      "Dataset downloaded successfully.\n"
     ]
    }
   ],
   "source": [
    "import requests\n",
    "\n",
    "# URL of the dataset\n",
    "url = \"https://www.data.gov.in/files/ogdpv2dms/s3fs-public/dataurl28062016/rs_session-237_AU2793_1.1.csv\"\n",
    "\n",
    "# Send a GET request to download the content\n",
    "response = requests.get(url)\n",
    "\n",
    "# Save the file to the local system\n",
    "with open(\"dataset.csv\", \"wb\") as file:\n",
    "    file.write(response.content)\n",
    "\n",
    "print(\"Dataset downloaded successfully.\")"
   ]
  },
  {
   "cell_type": "code",
   "execution_count": 29,
   "id": "6f889b49",
   "metadata": {},
   "outputs": [],
   "source": [
    "df = pd.read_csv(\"dataset2.csv\")"
   ]
  },
  {
   "cell_type": "code",
   "execution_count": 30,
   "id": "b364db19",
   "metadata": {},
   "outputs": [
    {
     "data": {
      "text/plain": [
       "Index(['S.No.', 'Towns', 'Zone', 'Zone Factor, Z', 'Default_Rate',\n",
       "       'Avg_Income', 'Unemployment_Rate', 'Economic_Growth'],\n",
       "      dtype='object')"
      ]
     },
     "execution_count": 30,
     "metadata": {},
     "output_type": "execute_result"
    }
   ],
   "source": [
    "df.columns"
   ]
  },
  {
   "cell_type": "code",
   "execution_count": 31,
   "id": "8fc04888",
   "metadata": {},
   "outputs": [
    {
     "data": {
      "text/plain": [
       "array([0.16, 0.1 , 0.24, 0.36])"
      ]
     },
     "execution_count": 31,
     "metadata": {},
     "output_type": "execute_result"
    }
   ],
   "source": [
    "df['Zone Factor, Z'].unique()"
   ]
  },
  {
   "cell_type": "code",
   "execution_count": 32,
   "id": "93473e27",
   "metadata": {},
   "outputs": [
    {
     "data": {
      "text/html": [
       "<div>\n",
       "<style scoped>\n",
       "    .dataframe tbody tr th:only-of-type {\n",
       "        vertical-align: middle;\n",
       "    }\n",
       "\n",
       "    .dataframe tbody tr th {\n",
       "        vertical-align: top;\n",
       "    }\n",
       "\n",
       "    .dataframe thead th {\n",
       "        text-align: right;\n",
       "    }\n",
       "</style>\n",
       "<table border=\"1\" class=\"dataframe\">\n",
       "  <thead>\n",
       "    <tr style=\"text-align: right;\">\n",
       "      <th></th>\n",
       "      <th>S.No.</th>\n",
       "      <th>Towns</th>\n",
       "      <th>Zone</th>\n",
       "      <th>Zone Factor, Z</th>\n",
       "      <th>Default_Rate</th>\n",
       "      <th>Avg_Income</th>\n",
       "      <th>Unemployment_Rate</th>\n",
       "      <th>Economic_Growth</th>\n",
       "    </tr>\n",
       "  </thead>\n",
       "  <tbody>\n",
       "    <tr>\n",
       "      <th>0</th>\n",
       "      <td>1</td>\n",
       "      <td>Agra</td>\n",
       "      <td>III</td>\n",
       "      <td>0.16</td>\n",
       "      <td>0.187203</td>\n",
       "      <td>53612.595290</td>\n",
       "      <td>2.165208</td>\n",
       "      <td>1.657414</td>\n",
       "    </tr>\n",
       "    <tr>\n",
       "      <th>1</th>\n",
       "      <td>2</td>\n",
       "      <td>Ahmadabad</td>\n",
       "      <td>III</td>\n",
       "      <td>0.16</td>\n",
       "      <td>0.228797</td>\n",
       "      <td>36154.081632</td>\n",
       "      <td>8.067029</td>\n",
       "      <td>1.276872</td>\n",
       "    </tr>\n",
       "    <tr>\n",
       "      <th>2</th>\n",
       "      <td>3</td>\n",
       "      <td>Ajmer</td>\n",
       "      <td>II</td>\n",
       "      <td>0.10</td>\n",
       "      <td>0.200691</td>\n",
       "      <td>72637.450576</td>\n",
       "      <td>4.560137</td>\n",
       "      <td>2.507993</td>\n",
       "    </tr>\n",
       "    <tr>\n",
       "      <th>3</th>\n",
       "      <td>4</td>\n",
       "      <td>Allahabad</td>\n",
       "      <td>II</td>\n",
       "      <td>0.10</td>\n",
       "      <td>0.186221</td>\n",
       "      <td>47356.268931</td>\n",
       "      <td>5.067711</td>\n",
       "      <td>2.310591</td>\n",
       "    </tr>\n",
       "    <tr>\n",
       "      <th>4</th>\n",
       "      <td>5</td>\n",
       "      <td>Almora</td>\n",
       "      <td>IV</td>\n",
       "      <td>0.24</td>\n",
       "      <td>0.155914</td>\n",
       "      <td>67320.433624</td>\n",
       "      <td>6.706537</td>\n",
       "      <td>3.280703</td>\n",
       "    </tr>\n",
       "    <tr>\n",
       "      <th>...</th>\n",
       "      <td>...</td>\n",
       "      <td>...</td>\n",
       "      <td>...</td>\n",
       "      <td>...</td>\n",
       "      <td>...</td>\n",
       "      <td>...</td>\n",
       "      <td>...</td>\n",
       "      <td>...</td>\n",
       "    </tr>\n",
       "    <tr>\n",
       "      <th>102</th>\n",
       "      <td>103</td>\n",
       "      <td>Vadodara</td>\n",
       "      <td>III</td>\n",
       "      <td>0.16</td>\n",
       "      <td>0.233799</td>\n",
       "      <td>69833.564652</td>\n",
       "      <td>5.364316</td>\n",
       "      <td>1.814772</td>\n",
       "    </tr>\n",
       "    <tr>\n",
       "      <th>103</th>\n",
       "      <td>104</td>\n",
       "      <td>Varanasi</td>\n",
       "      <td>II</td>\n",
       "      <td>0.10</td>\n",
       "      <td>0.290547</td>\n",
       "      <td>74516.947370</td>\n",
       "      <td>6.458950</td>\n",
       "      <td>4.193809</td>\n",
       "    </tr>\n",
       "    <tr>\n",
       "      <th>104</th>\n",
       "      <td>105</td>\n",
       "      <td>Vellore</td>\n",
       "      <td>IV</td>\n",
       "      <td>0.24</td>\n",
       "      <td>0.112188</td>\n",
       "      <td>35844.849220</td>\n",
       "      <td>8.884409</td>\n",
       "      <td>3.451527</td>\n",
       "    </tr>\n",
       "    <tr>\n",
       "      <th>105</th>\n",
       "      <td>106</td>\n",
       "      <td>Vijaywada</td>\n",
       "      <td>III</td>\n",
       "      <td>0.16</td>\n",
       "      <td>0.194039</td>\n",
       "      <td>58153.910155</td>\n",
       "      <td>7.816354</td>\n",
       "      <td>5.947049</td>\n",
       "    </tr>\n",
       "    <tr>\n",
       "      <th>106</th>\n",
       "      <td>107</td>\n",
       "      <td>Vishakhapatnam</td>\n",
       "      <td>IV</td>\n",
       "      <td>0.24</td>\n",
       "      <td>0.198010</td>\n",
       "      <td>38166.118837</td>\n",
       "      <td>4.162623</td>\n",
       "      <td>1.326521</td>\n",
       "    </tr>\n",
       "  </tbody>\n",
       "</table>\n",
       "<p>107 rows × 8 columns</p>\n",
       "</div>"
      ],
      "text/plain": [
       "     S.No.           Towns Zone  Zone Factor, Z  Default_Rate    Avg_Income  \\\n",
       "0        1            Agra  III            0.16      0.187203  53612.595290   \n",
       "1        2       Ahmadabad  III            0.16      0.228797  36154.081632   \n",
       "2        3           Ajmer   II            0.10      0.200691  72637.450576   \n",
       "3        4       Allahabad   II            0.10      0.186221  47356.268931   \n",
       "4        5          Almora   IV            0.24      0.155914  67320.433624   \n",
       "..     ...             ...  ...             ...           ...           ...   \n",
       "102    103        Vadodara  III            0.16      0.233799  69833.564652   \n",
       "103    104        Varanasi   II            0.10      0.290547  74516.947370   \n",
       "104    105         Vellore   IV            0.24      0.112188  35844.849220   \n",
       "105    106       Vijaywada  III            0.16      0.194039  58153.910155   \n",
       "106    107  Vishakhapatnam   IV            0.24      0.198010  38166.118837   \n",
       "\n",
       "     Unemployment_Rate  Economic_Growth  \n",
       "0             2.165208         1.657414  \n",
       "1             8.067029         1.276872  \n",
       "2             4.560137         2.507993  \n",
       "3             5.067711         2.310591  \n",
       "4             6.706537         3.280703  \n",
       "..                 ...              ...  \n",
       "102           5.364316         1.814772  \n",
       "103           6.458950         4.193809  \n",
       "104           8.884409         3.451527  \n",
       "105           7.816354         5.947049  \n",
       "106           4.162623         1.326521  \n",
       "\n",
       "[107 rows x 8 columns]"
      ]
     },
     "execution_count": 32,
     "metadata": {},
     "output_type": "execute_result"
    }
   ],
   "source": [
    "df.head(150)"
   ]
  },
  {
   "cell_type": "code",
   "execution_count": 33,
   "id": "0a9edb28",
   "metadata": {},
   "outputs": [],
   "source": [
    "df = df.drop(columns=[\"Zone\", \"Zone Factor, Z\"])"
   ]
  },
  {
   "cell_type": "code",
   "execution_count": 35,
   "id": "44b43a3f",
   "metadata": {},
   "outputs": [
    {
     "data": {
      "text/html": [
       "<div>\n",
       "<style scoped>\n",
       "    .dataframe tbody tr th:only-of-type {\n",
       "        vertical-align: middle;\n",
       "    }\n",
       "\n",
       "    .dataframe tbody tr th {\n",
       "        vertical-align: top;\n",
       "    }\n",
       "\n",
       "    .dataframe thead th {\n",
       "        text-align: right;\n",
       "    }\n",
       "</style>\n",
       "<table border=\"1\" class=\"dataframe\">\n",
       "  <thead>\n",
       "    <tr style=\"text-align: right;\">\n",
       "      <th></th>\n",
       "      <th>S.No.</th>\n",
       "      <th>Towns</th>\n",
       "      <th>Default_Rate</th>\n",
       "      <th>Avg_Income</th>\n",
       "      <th>Unemployment_Rate</th>\n",
       "      <th>Economic_Growth</th>\n",
       "    </tr>\n",
       "  </thead>\n",
       "  <tbody>\n",
       "    <tr>\n",
       "      <th>0</th>\n",
       "      <td>1</td>\n",
       "      <td>Agra</td>\n",
       "      <td>0.187203</td>\n",
       "      <td>53612.595290</td>\n",
       "      <td>2.165208</td>\n",
       "      <td>1.657414</td>\n",
       "    </tr>\n",
       "    <tr>\n",
       "      <th>1</th>\n",
       "      <td>2</td>\n",
       "      <td>Ahmadabad</td>\n",
       "      <td>0.228797</td>\n",
       "      <td>36154.081632</td>\n",
       "      <td>8.067029</td>\n",
       "      <td>1.276872</td>\n",
       "    </tr>\n",
       "    <tr>\n",
       "      <th>2</th>\n",
       "      <td>3</td>\n",
       "      <td>Ajmer</td>\n",
       "      <td>0.200691</td>\n",
       "      <td>72637.450576</td>\n",
       "      <td>4.560137</td>\n",
       "      <td>2.507993</td>\n",
       "    </tr>\n",
       "    <tr>\n",
       "      <th>3</th>\n",
       "      <td>4</td>\n",
       "      <td>Allahabad</td>\n",
       "      <td>0.186221</td>\n",
       "      <td>47356.268931</td>\n",
       "      <td>5.067711</td>\n",
       "      <td>2.310591</td>\n",
       "    </tr>\n",
       "    <tr>\n",
       "      <th>4</th>\n",
       "      <td>5</td>\n",
       "      <td>Almora</td>\n",
       "      <td>0.155914</td>\n",
       "      <td>67320.433624</td>\n",
       "      <td>6.706537</td>\n",
       "      <td>3.280703</td>\n",
       "    </tr>\n",
       "  </tbody>\n",
       "</table>\n",
       "</div>"
      ],
      "text/plain": [
       "   S.No.      Towns  Default_Rate    Avg_Income  Unemployment_Rate  \\\n",
       "0      1       Agra      0.187203  53612.595290           2.165208   \n",
       "1      2  Ahmadabad      0.228797  36154.081632           8.067029   \n",
       "2      3      Ajmer      0.200691  72637.450576           4.560137   \n",
       "3      4  Allahabad      0.186221  47356.268931           5.067711   \n",
       "4      5     Almora      0.155914  67320.433624           6.706537   \n",
       "\n",
       "   Economic_Growth  \n",
       "0         1.657414  \n",
       "1         1.276872  \n",
       "2         2.507993  \n",
       "3         2.310591  \n",
       "4         3.280703  "
      ]
     },
     "execution_count": 35,
     "metadata": {},
     "output_type": "execute_result"
    }
   ],
   "source": [
    "df.head()"
   ]
  },
  {
   "cell_type": "code",
   "execution_count": 36,
   "id": "aea89323",
   "metadata": {},
   "outputs": [
    {
     "data": {
      "text/plain": [
       "Index(['S.No.', 'Towns', 'Default_Rate', 'Avg_Income', 'Unemployment_Rate',\n",
       "       'Economic_Growth'],\n",
       "      dtype='object')"
      ]
     },
     "execution_count": 36,
     "metadata": {},
     "output_type": "execute_result"
    }
   ],
   "source": [
    "df.columns"
   ]
  },
  {
   "cell_type": "code",
   "execution_count": 37,
   "id": "c845cabd",
   "metadata": {},
   "outputs": [],
   "source": [
    "def calculate_credit_risk(default_rate, avg_income, unemployment_rate, economic_growth, \n",
    "                          W1=0.4, W2=0.3, W3=0.2, W4=0.1):\n",
    "    risk_score = (\n",
    "        W1 * default_rate + \n",
    "        W2 * (1 / avg_income) + \n",
    "        W3 * unemployment_rate + \n",
    "        W4 * (1 / economic_growth)\n",
    "    )\n",
    "    return risk_score"
   ]
  },
  {
   "cell_type": "code",
   "execution_count": 39,
   "id": "32a73776",
   "metadata": {},
   "outputs": [],
   "source": [
    "df['Credit_Risk'] = df.apply(\n",
    "    lambda row: calculate_credit_risk(row['Default_Rate'], row['Avg_Income'], \n",
    "                                      row['Unemployment_Rate'], row['Economic_Growth']), axis=1\n",
    ")"
   ]
  },
  {
   "cell_type": "code",
   "execution_count": 41,
   "id": "2acb95cf",
   "metadata": {},
   "outputs": [
    {
     "name": "stdout",
     "output_type": "stream",
     "text": [
      "   S.No.      Towns  Default_Rate    Avg_Income  Unemployment_Rate  \\\n",
      "0      1       Agra      0.187203  53612.595290           2.165208   \n",
      "1      2  Ahmadabad      0.228797  36154.081632           8.067029   \n",
      "2      3      Ajmer      0.200691  72637.450576           4.560137   \n",
      "3      4  Allahabad      0.186221  47356.268931           5.067711   \n",
      "4      5     Almora      0.155914  67320.433624           6.706537   \n",
      "\n",
      "   Economic_Growth  Credit_Risk  \n",
      "0         1.657414     0.568264  \n",
      "1         1.276872     1.783249  \n",
      "2         2.507993     1.032180  \n",
      "3         2.310591     1.131316  \n",
      "4         3.280703     1.434159  \n"
     ]
    }
   ],
   "source": [
    "print(df.head())"
   ]
  },
  {
   "cell_type": "code",
   "execution_count": 42,
   "id": "3b9140a4",
   "metadata": {},
   "outputs": [
    {
     "data": {
      "text/plain": [
       "<bound method Series.unique of 0      0.568264\n",
       "1      1.783249\n",
       "2      1.032180\n",
       "3      1.131316\n",
       "4      1.434159\n",
       "         ...   \n",
       "102    1.221490\n",
       "103    1.431858\n",
       "104    1.850738\n",
       "105    1.657707\n",
       "106    0.987122\n",
       "Name: Credit_Risk, Length: 107, dtype: float64>"
      ]
     },
     "execution_count": 42,
     "metadata": {},
     "output_type": "execute_result"
    }
   ],
   "source": [
    "df[\"Credit_Risk\"].unique"
   ]
  },
  {
   "cell_type": "code",
   "execution_count": 43,
   "id": "8a17a271",
   "metadata": {},
   "outputs": [],
   "source": [
    "df.to_csv('city_wise_risk_data.csv', index=False)"
   ]
  },
  {
   "cell_type": "code",
   "execution_count": 44,
   "id": "e6887788",
   "metadata": {},
   "outputs": [
    {
     "ename": "SyntaxError",
     "evalue": "invalid syntax (2142805291.py, line 1)",
     "output_type": "error",
     "traceback": [
      "\u001b[0;36m  Cell \u001b[0;32mIn[44], line 1\u001b[0;36m\u001b[0m\n\u001b[0;31m    response = ```json\u001b[0m\n\u001b[0m               ^\u001b[0m\n\u001b[0;31mSyntaxError\u001b[0m\u001b[0;31m:\u001b[0m invalid syntax\n"
     ]
    }
   ],
   "source": []
  },
  {
   "cell_type": "code",
   "execution_count": null,
   "id": "518dc85b",
   "metadata": {},
   "outputs": [],
   "source": []
  }
 ],
 "metadata": {
  "kernelspec": {
   "display_name": "Python 3 (ipykernel)",
   "language": "python",
   "name": "python3"
  },
  "language_info": {
   "codemirror_mode": {
    "name": "ipython",
    "version": 3
   },
   "file_extension": ".py",
   "mimetype": "text/x-python",
   "name": "python",
   "nbconvert_exporter": "python",
   "pygments_lexer": "ipython3",
   "version": "3.11.4"
  }
 },
 "nbformat": 4,
 "nbformat_minor": 5
}
