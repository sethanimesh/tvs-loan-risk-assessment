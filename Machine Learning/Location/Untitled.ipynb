{
 "cells": [
  {
   "cell_type": "code",
   "execution_count": 2,
   "id": "68689055",
   "metadata": {},
   "outputs": [],
   "source": [
    "import pandas as pd"
   ]
  },
  {
   "cell_type": "code",
   "execution_count": 2,
   "id": "be76c32c",
   "metadata": {},
   "outputs": [
    {
     "name": "stdout",
     "output_type": "stream",
     "text": [
      "Dataset downloaded successfully.\n"
     ]
    }
   ],
   "source": [
    "import requests\n",
    "\n",
    "# URL of the dataset\n",
    "url = \"https://www.data.gov.in/files/ogdpv2dms/s3fs-public/dataurl28062016/rs_session-237_AU2793_1.1.csv\"\n",
    "\n",
    "# Send a GET request to download the content\n",
    "response = requests.get(url)\n",
    "\n",
    "# Save the file to the local system\n",
    "with open(\"dataset.csv\", \"wb\") as file:\n",
    "    file.write(response.content)\n",
    "\n",
    "print(\"Dataset downloaded successfully.\")"
   ]
  },
  {
   "cell_type": "code",
   "execution_count": 3,
   "id": "6f889b49",
   "metadata": {},
   "outputs": [],
   "source": [
    "df = pd.read_csv(\"dataset.csv\")"
   ]
  },
  {
   "cell_type": "code",
   "execution_count": 4,
   "id": "b364db19",
   "metadata": {},
   "outputs": [
    {
     "data": {
      "text/plain": [
       "Index(['S.No.', 'Towns', 'Zone', 'Zone Factor, Z'], dtype='object')"
      ]
     },
     "execution_count": 4,
     "metadata": {},
     "output_type": "execute_result"
    }
   ],
   "source": [
    "df.columns"
   ]
  },
  {
   "cell_type": "code",
   "execution_count": 5,
   "id": "8fc04888",
   "metadata": {},
   "outputs": [
    {
     "data": {
      "text/plain": [
       "array([0.16, 0.1 , 0.24, 0.36])"
      ]
     },
     "execution_count": 5,
     "metadata": {},
     "output_type": "execute_result"
    }
   ],
   "source": [
    "df['Zone Factor, Z'].unique()"
   ]
  },
  {
   "cell_type": "code",
   "execution_count": 6,
   "id": "93473e27",
   "metadata": {},
   "outputs": [
    {
     "data": {
      "text/html": [
       "<div>\n",
       "<style scoped>\n",
       "    .dataframe tbody tr th:only-of-type {\n",
       "        vertical-align: middle;\n",
       "    }\n",
       "\n",
       "    .dataframe tbody tr th {\n",
       "        vertical-align: top;\n",
       "    }\n",
       "\n",
       "    .dataframe thead th {\n",
       "        text-align: right;\n",
       "    }\n",
       "</style>\n",
       "<table border=\"1\" class=\"dataframe\">\n",
       "  <thead>\n",
       "    <tr style=\"text-align: right;\">\n",
       "      <th></th>\n",
       "      <th>S.No.</th>\n",
       "      <th>Towns</th>\n",
       "      <th>Zone</th>\n",
       "      <th>Zone Factor, Z</th>\n",
       "    </tr>\n",
       "  </thead>\n",
       "  <tbody>\n",
       "    <tr>\n",
       "      <th>0</th>\n",
       "      <td>1</td>\n",
       "      <td>Agra</td>\n",
       "      <td>III</td>\n",
       "      <td>0.16</td>\n",
       "    </tr>\n",
       "    <tr>\n",
       "      <th>1</th>\n",
       "      <td>2</td>\n",
       "      <td>Ahmadabad</td>\n",
       "      <td>III</td>\n",
       "      <td>0.16</td>\n",
       "    </tr>\n",
       "    <tr>\n",
       "      <th>2</th>\n",
       "      <td>3</td>\n",
       "      <td>Ajmer</td>\n",
       "      <td>II</td>\n",
       "      <td>0.10</td>\n",
       "    </tr>\n",
       "    <tr>\n",
       "      <th>3</th>\n",
       "      <td>4</td>\n",
       "      <td>Allahabad</td>\n",
       "      <td>II</td>\n",
       "      <td>0.10</td>\n",
       "    </tr>\n",
       "    <tr>\n",
       "      <th>4</th>\n",
       "      <td>5</td>\n",
       "      <td>Almora</td>\n",
       "      <td>IV</td>\n",
       "      <td>0.24</td>\n",
       "    </tr>\n",
       "    <tr>\n",
       "      <th>...</th>\n",
       "      <td>...</td>\n",
       "      <td>...</td>\n",
       "      <td>...</td>\n",
       "      <td>...</td>\n",
       "    </tr>\n",
       "    <tr>\n",
       "      <th>102</th>\n",
       "      <td>103</td>\n",
       "      <td>Vadodara</td>\n",
       "      <td>III</td>\n",
       "      <td>0.16</td>\n",
       "    </tr>\n",
       "    <tr>\n",
       "      <th>103</th>\n",
       "      <td>104</td>\n",
       "      <td>Varanasi</td>\n",
       "      <td>III</td>\n",
       "      <td>0.16</td>\n",
       "    </tr>\n",
       "    <tr>\n",
       "      <th>104</th>\n",
       "      <td>105</td>\n",
       "      <td>Vellore</td>\n",
       "      <td>III</td>\n",
       "      <td>0.16</td>\n",
       "    </tr>\n",
       "    <tr>\n",
       "      <th>105</th>\n",
       "      <td>106</td>\n",
       "      <td>Vijaywada</td>\n",
       "      <td>III</td>\n",
       "      <td>0.16</td>\n",
       "    </tr>\n",
       "    <tr>\n",
       "      <th>106</th>\n",
       "      <td>107</td>\n",
       "      <td>Vishakhapatnam</td>\n",
       "      <td>II</td>\n",
       "      <td>0.10</td>\n",
       "    </tr>\n",
       "  </tbody>\n",
       "</table>\n",
       "<p>107 rows × 4 columns</p>\n",
       "</div>"
      ],
      "text/plain": [
       "     S.No.           Towns Zone  Zone Factor, Z\n",
       "0        1            Agra  III            0.16\n",
       "1        2       Ahmadabad  III            0.16\n",
       "2        3           Ajmer   II            0.10\n",
       "3        4       Allahabad   II            0.10\n",
       "4        5          Almora   IV            0.24\n",
       "..     ...             ...  ...             ...\n",
       "102    103        Vadodara  III            0.16\n",
       "103    104        Varanasi  III            0.16\n",
       "104    105         Vellore  III            0.16\n",
       "105    106       Vijaywada  III            0.16\n",
       "106    107  Vishakhapatnam   II            0.10\n",
       "\n",
       "[107 rows x 4 columns]"
      ]
     },
     "execution_count": 6,
     "metadata": {},
     "output_type": "execute_result"
    }
   ],
   "source": [
    "df.head(150)"
   ]
  },
  {
   "cell_type": "code",
   "execution_count": 28,
   "id": "ce65cc89",
   "metadata": {},
   "outputs": [
    {
     "name": "stdout",
     "output_type": "stream",
     "text": [
      "       Towns Zone  Zone Factor, Z Credit_Risk\n",
      "0       Agra  III            0.16   High Risk\n",
      "1  Ahmadabad  III            0.16   High Risk\n",
      "2      Ajmer   II            0.10   High Risk\n",
      "3  Allahabad   II            0.10   High Risk\n",
      "4     Almora   IV            0.24    Low Risk\n"
     ]
    }
   ],
   "source": [
    "# Define credit risk mapping based on Zone Factor, Z\n",
    "def assign_credit_risk(zone_factor):\n",
    "    if zone_factor >= 0.24:\n",
    "        return 'Low Risk'\n",
    "    elif 1.1 <= zone_factor <= 0.16:\n",
    "        return 'Moderate Risk'\n",
    "    else:\n",
    "        return 'High Risk'\n",
    "\n",
    "# Apply the mapping to create a new column for credit risk\n",
    "df['Credit_Risk'] = df['Zone Factor, Z'].apply(assign_credit_risk)\n",
    "\n",
    "# Display the updated data\n",
    "print(df[['Towns', 'Zone', 'Zone Factor, Z', 'Credit_Risk']].head())"
   ]
  },
  {
   "cell_type": "code",
   "execution_count": 7,
   "id": "5a2bcbca",
   "metadata": {},
   "outputs": [],
   "source": [
    "df['Credit_Risk'] = df['Zone Factor, Z']"
   ]
  },
  {
   "cell_type": "code",
   "execution_count": 8,
   "id": "0a9edb28",
   "metadata": {},
   "outputs": [],
   "source": [
    "df = df.drop(columns=[\"Zone\", \"Zone Factor, Z\"])"
   ]
  },
  {
   "cell_type": "code",
   "execution_count": 9,
   "id": "a6c86014",
   "metadata": {},
   "outputs": [
    {
     "data": {
      "text/plain": [
       "array([0.16, 0.1 , 0.24, 0.36])"
      ]
     },
     "execution_count": 9,
     "metadata": {},
     "output_type": "execute_result"
    }
   ],
   "source": [
    "df[\"Credit_Risk\"].unique()"
   ]
  },
  {
   "cell_type": "code",
   "execution_count": 10,
   "id": "b414a251",
   "metadata": {},
   "outputs": [],
   "source": [
    "df.to_csv('city_wise_risk_data.csv', index=False)"
   ]
  },
  {
   "cell_type": "code",
   "execution_count": null,
   "id": "44b43a3f",
   "metadata": {},
   "outputs": [],
   "source": []
  }
 ],
 "metadata": {
  "kernelspec": {
   "display_name": "Python 3 (ipykernel)",
   "language": "python",
   "name": "python3"
  },
  "language_info": {
   "codemirror_mode": {
    "name": "ipython",
    "version": 3
   },
   "file_extension": ".py",
   "mimetype": "text/x-python",
   "name": "python",
   "nbconvert_exporter": "python",
   "pygments_lexer": "ipython3",
   "version": "3.11.4"
  }
 },
 "nbformat": 4,
 "nbformat_minor": 5
}
